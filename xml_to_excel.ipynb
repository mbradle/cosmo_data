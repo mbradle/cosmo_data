{
 "cells": [
  {
   "cell_type": "markdown",
   "metadata": {},
   "source": [
    "The aim of this notebook is to convert appropriate Webnucleo XML data into Excel.  Begin by installing and importing the necessary libraries."
   ]
  },
  {
   "cell_type": "code",
   "execution_count": 1,
   "metadata": {},
   "outputs": [],
   "source": [
    "import sys, io, requests, html\n",
    "\n",
    "!{sys.executable} -m pip install --quiet pandas\n",
    "!{sys.executable} -m pip install --quiet xmlcoll\n",
    "\n",
    "import pandas as pd\n",
    "import xmlcoll as xc"
   ]
  },
  {
   "cell_type": "markdown",
   "metadata": {},
   "source": [
    "Now create an empty XML collection."
   ]
  },
  {
   "cell_type": "code",
   "execution_count": 2,
   "metadata": {},
   "outputs": [],
   "source": [
    "my_collection = xc.Collection()"
   ]
  },
  {
   "cell_type": "markdown",
   "metadata": {},
   "source": [
    "Now choose an input XML file and update the XML data.  The file needs to be in the local directory or have an appropriate path specified.  On Colab, upload the file in the directory specified by the tab in the left frame.  This example uses data from [OSF](https://osf.io/wj5rd).  Change this by using a local file (e. g., *example.xml*, in the commented line)."
   ]
  },
  {
   "cell_type": "code",
   "execution_count": 3,
   "metadata": {},
   "outputs": [],
   "source": [
    "my_collection.update_from_xml(io.BytesIO(requests.get('https://osf.io/wj5rd/download').content))"
   ]
  },
  {
   "cell_type": "markdown",
   "metadata": {},
   "source": [
    "Next, create a data frame."
   ]
  },
  {
   "cell_type": "code",
   "execution_count": 4,
   "metadata": {},
   "outputs": [],
   "source": [
    "df = pd.DataFrame()"
   ]
  },
  {
   "cell_type": "markdown",
   "metadata": {},
   "source": [
    "Now iterate through the data and add to the data frame."
   ]
  },
  {
   "cell_type": "code",
   "execution_count": 5,
   "metadata": {},
   "outputs": [],
   "source": [
    "items = my_collection.get()\n",
    "for item in items:\n",
    "    data_line={}\n",
    "    props = items[item].get_properties()\n",
    "    for prop in props:\n",
    "        str = \"\"\n",
    "        if isinstance(prop, tuple):\n",
    "            for i in range(len(prop)):\n",
    "                str += prop[i]\n",
    "                if i < len(prop) - 1:\n",
    "                    str += \"_ \"\n",
    "        else:\n",
    "            str = prop\n",
    "        data_line[str] = [props[prop]]\n",
    "\n",
    "    df_add = pd.DataFrame(data_line, index=[item])\n",
    "    df_add.index.name = 'name'\n",
    "\n",
    "    df = pd.concat([df, df_add])"
   ]
  },
  {
   "cell_type": "markdown",
   "metadata": {},
   "source": [
    "Finally, output the data frame to Excel.  Change the name of the output file by changing the value of *output_excel_file*.  The output file will be written locally.  On Colab, check under the folder tab to the left for the output."
   ]
  },
  {
   "cell_type": "code",
   "execution_count": 6,
   "metadata": {},
   "outputs": [],
   "source": [
    "output_excel_file = 'my_output.xlsx'\n",
    "\n",
    "df.to_excel(output_excel_file)"
   ]
  },
  {
   "cell_type": "code",
   "execution_count": null,
   "metadata": {},
   "outputs": [],
   "source": []
  }
 ],
 "metadata": {
  "kernelspec": {
   "display_name": "Python 3 (ipykernel)",
   "language": "python",
   "name": "python3"
  },
  "language_info": {
   "codemirror_mode": {
    "name": "ipython",
    "version": 3
   },
   "file_extension": ".py",
   "mimetype": "text/x-python",
   "name": "python",
   "nbconvert_exporter": "python",
   "pygments_lexer": "ipython3",
   "version": "3.11.2"
  }
 },
 "nbformat": 4,
 "nbformat_minor": 4
}
