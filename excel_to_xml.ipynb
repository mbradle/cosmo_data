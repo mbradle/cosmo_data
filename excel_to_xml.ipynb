{
 "cells": [
  {
   "cell_type": "markdown",
   "metadata": {},
   "source": [
    "The aim of this notebook is to convert appropriate Excel data into Webnucleo XML.  Begin by installing and importing the necessary libraries."
   ]
  },
  {
   "cell_type": "code",
   "execution_count": 1,
   "metadata": {},
   "outputs": [],
   "source": [
    "import sys, io, requests, html\n",
    "\n",
    "!{sys.executable} -m pip install --quiet pandas\n",
    "!{sys.executable} -m pip install --quiet xmlcoll\n",
    "\n",
    "import pandas as pd\n",
    "import xmlcoll as xc"
   ]
  },
  {
   "cell_type": "markdown",
   "metadata": {},
   "source": [
    "Choose an input Excel file and create the dataframe.  The file needs to be in the local directory or have an appropriate path specified.  On Colab, upload the file in the directory specified by the tab in the left fram."
   ]
  },
  {
   "cell_type": "code",
   "execution_count": 2,
   "metadata": {},
   "outputs": [],
   "source": [
    "input_xlsx_file = 'input.xlsx'\n",
    "\n",
    "df = pd.read_excel(input_xlsx_file)"
   ]
  },
  {
   "cell_type": "markdown",
   "metadata": {},
   "source": [
    "Next, reset the indices and retrieve the column names."
   ]
  },
  {
   "cell_type": "code",
   "execution_count": 3,
   "metadata": {},
   "outputs": [],
   "source": [
    "df = df.reset_index()\n",
    "column_names = list(df.columns.values)"
   ]
  },
  {
   "cell_type": "markdown",
   "metadata": {},
   "source": [
    "Now, create an XML collection."
   ]
  },
  {
   "cell_type": "code",
   "execution_count": 4,
   "metadata": {},
   "outputs": [],
   "source": [
    "my_collection = xc.Collection()"
   ]
  },
  {
   "cell_type": "markdown",
   "metadata": {},
   "source": [
    "Now loop through the data and add to the XML collection."
   ]
  },
  {
   "cell_type": "code",
   "execution_count": 5,
   "metadata": {},
   "outputs": [],
   "source": [
    "for index, row in df.iterrows():\n",
    "    item = xc.Item(row['name'])\n",
    "    props = {}\n",
    "    for col in column_names:\n",
    "        if col != 'name' and col != 'index':\n",
    "            if not pd.isna(row[col]):\n",
    "                x = col.split(\"_\")\n",
    "                if len(x) == 1:\n",
    "                    c_str = x[0]\n",
    "                else:\n",
    "                    c_str = (x[0],)\n",
    "                    for i in range(1, len(x)):\n",
    "                        c_str = c_str + (x[i],)\n",
    "                props[c_str] = row[col]\n",
    "    item.update_properties(props)\n",
    "    my_collection.add_item(item)"
   ]
  },
  {
   "cell_type": "markdown",
   "metadata": {},
   "source": [
    "Finally, write the output XML file.  Choose an appropriate output name by changing the value of *output_xml_file*.  The XML file will be written to the local directory (if you are running in Colab, check the folder tab)."
   ]
  },
  {
   "cell_type": "code",
   "execution_count": 6,
   "metadata": {},
   "outputs": [],
   "source": [
    "output_xml_file = 'my_output.xml'\n",
    "\n",
    "my_collection.write_to_xml(output_xml_file)"
   ]
  },
  {
   "cell_type": "code",
   "execution_count": null,
   "metadata": {},
   "outputs": [],
   "source": []
  }
 ],
 "metadata": {
  "kernelspec": {
   "display_name": "Python 3 (ipykernel)",
   "language": "python",
   "name": "python3"
  },
  "language_info": {
   "codemirror_mode": {
    "name": "ipython",
    "version": 3
   },
   "file_extension": ".py",
   "mimetype": "text/x-python",
   "name": "python",
   "nbconvert_exporter": "python",
   "pygments_lexer": "ipython3",
   "version": "3.11.2"
  }
 },
 "nbformat": 4,
 "nbformat_minor": 4
}
